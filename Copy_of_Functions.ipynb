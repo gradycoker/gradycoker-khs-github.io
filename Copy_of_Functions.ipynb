{
  "nbformat": 4,
  "nbformat_minor": 0,
  "metadata": {
    "colab": {
      "provenance": [],
      "include_colab_link": true
    },
    "kernelspec": {
      "name": "python3",
      "display_name": "Python 3"
    },
    "language_info": {
      "name": "python"
    }
  },
  "cells": [
    {
      "cell_type": "markdown",
      "metadata": {
        "id": "view-in-github",
        "colab_type": "text"
      },
      "source": [
        "<a href=\"https://colab.research.google.com/github/gradycoker/gradycoker-khs-github.io/blob/main/Copy_of_Functions.ipynb\" target=\"_parent\"><img src=\"https://colab.research.google.com/assets/colab-badge.svg\" alt=\"Open In Colab\"/></a>"
      ]
    },
    {
      "cell_type": "markdown",
      "source": [
        "### Functions Practice"
      ],
      "metadata": {
        "id": "J-INB0IVicUd"
      }
    },
    {
      "cell_type": "markdown",
      "source": [
        "Q1. Write a function that returns the string 'Hello World'."
      ],
      "metadata": {
        "id": "_c_lWpZlifbR"
      }
    },
    {
      "cell_type": "code",
      "execution_count": 1,
      "metadata": {
        "id": "JGVzJPGLhfF5"
      },
      "outputs": [],
      "source": [
        "def hello_world():\n",
        "    return 'Hello World'"
      ]
    },
    {
      "cell_type": "markdown",
      "source": [
        "Q2. Write a function called `greet` that takes a name as an argument and returns a greeting, e.g., greet('Alice') should return \"Hello, Alice!\". The formatting should look like the following:\n",
        "```\n",
        "greet('Alice')\n",
        ">> Hello, Alice!\n",
        "```"
      ],
      "metadata": {
        "id": "lsUjPpH_i1FI"
      }
    },
    {
      "cell_type": "code",
      "source": [],
      "metadata": {
        "id": "AoYMDC9vjNJW"
      },
      "execution_count": null,
      "outputs": []
    },
    {
      "cell_type": "markdown",
      "source": [
        "Q3. Write a function called `add` that takes two numbers and returns their sum.\n",
        "```\n",
        "add(2, 3)\n",
        ">> 5\n",
        "```"
      ],
      "metadata": {
        "id": "TzRocicTjRGr"
      }
    },
    {
      "cell_type": "code",
      "source": [],
      "metadata": {
        "id": "26QwkELYjY8f"
      },
      "execution_count": null,
      "outputs": []
    },
    {
      "cell_type": "markdown",
      "source": [
        "Q4. Write a function called `circle_area` that takes the radius of a circle as an argument and returns its area. <br>\n",
        "(Use 3.14 as an approximation for π)."
      ],
      "metadata": {
        "id": "3W2C7b2Ejbu_"
      }
    },
    {
      "cell_type": "markdown",
      "source": [
        "```\n",
        "circle_area(10)\n",
        ">> 314\n",
        "```"
      ],
      "metadata": {
        "id": "Uq8VoO0tjgs7"
      }
    },
    {
      "cell_type": "code",
      "source": [
        "def circle_area(x):\n",
        "    return x*x*3.14\n",
        "circle_area()"
      ],
      "metadata": {
        "id": "1gqwWNozjezV",
        "colab": {
          "base_uri": "https://localhost:8080/"
        },
        "outputId": "06c10e8d-d53e-40a2-8fed-bca46d1f9c40"
      },
      "execution_count": null,
      "outputs": [
        {
          "output_type": "execute_result",
          "data": {
            "text/plain": [
              "28.26"
            ]
          },
          "metadata": {},
          "execution_count": 11
        }
      ]
    },
    {
      "cell_type": "markdown",
      "source": [
        "Q5. Write a function called `is_even` that determines if a number is odd or even.\n",
        "```\n",
        "is_even(4)\n",
        ">> True\n",
        "```\n"
      ],
      "metadata": {
        "id": "p08CPWOsjnEb"
      }
    },
    {
      "cell_type": "code",
      "source": [
        "def is_even(x):\n",
        "    return x%2== 0\n",
        "\n",
        "is_even()"
      ],
      "metadata": {
        "id": "C5fMy4qQj2cW",
        "colab": {
          "base_uri": "https://localhost:8080/"
        },
        "outputId": "c2e73c9e-5101-4078-8456-c0367e3518f8"
      },
      "execution_count": null,
      "outputs": [
        {
          "output_type": "execute_result",
          "data": {
            "text/plain": [
              "False"
            ]
          },
          "metadata": {},
          "execution_count": 8
        }
      ]
    },
    {
      "cell_type": "markdown",
      "source": [
        "Q6. Write a function that computes the factorial of a number. (i.e., 4 factorial is 4\\*3\\*2\\*1, 5 factorial is 5\\*4\\*3\\*2\\*1)\n",
        "```\n",
        "factorial(4)\n",
        ">> 24\n",
        "```"
      ],
      "metadata": {
        "id": "2TBMIsRqj3lj"
      }
    },
    {
      "cell_type": "code",
      "source": [
        "\n",
        "def factorial(x):\n",
        "    if x==0 :\n",
        "        return 1\n",
        "    else:\n",
        "       return x * factorial(x-1)\n",
        "\n",
        "\n",
        "factorial(4)"
      ],
      "metadata": {
        "id": "GAtKYZG3j_2S",
        "colab": {
          "base_uri": "https://localhost:8080/"
        },
        "outputId": "1df51a84-aa05-4e52-c893-aec8ba950f0a"
      },
      "execution_count": null,
      "outputs": [
        {
          "output_type": "execute_result",
          "data": {
            "text/plain": [
              "24"
            ]
          },
          "metadata": {},
          "execution_count": 29
        }
      ]
    },
    {
      "cell_type": "markdown",
      "source": [
        "Q7. Write a function that reverses a string.\n",
        "```\n",
        "reverse_string('Hello')\n",
        ">> 'olleH'\n",
        "```"
      ],
      "metadata": {
        "id": "p4MG4qrDkOuS"
      }
    },
    {
      "cell_type": "code",
      "source": [
        "txt = \"hello\"[::-1]\n",
        "print(txt)\n",
        "str_= \"world\"\n",
        "reverse_string1= str_ [::-1]\n",
        "print(reverse_string1)\n",
        "def reverse_string(string):\n",
        "    string_2=\"\"\n",
        "    for i in range (-1*len(string),0):\n",
        "        index= (i*-1)-1\n",
        "        character= string[index]\n",
        "        string_2 = string_2 + character\n",
        "    return string_2\n",
        "reverse_string(\"hello\")"
      ],
      "metadata": {
        "id": "82_bFRwpkY3O",
        "colab": {
          "base_uri": "https://localhost:8080/",
          "height": 70
        },
        "outputId": "e6f96ca4-4740-4388-a6d0-089f39169777"
      },
      "execution_count": 2,
      "outputs": [
        {
          "output_type": "stream",
          "name": "stdout",
          "text": [
            "olleh\n",
            "dlrow\n"
          ]
        },
        {
          "output_type": "execute_result",
          "data": {
            "text/plain": [
              "'olleh'"
            ],
            "application/vnd.google.colaboratory.intrinsic+json": {
              "type": "string"
            }
          },
          "metadata": {},
          "execution_count": 2
        }
      ]
    },
    {
      "cell_type": "code",
      "source": [
        "str_7= \"Grady\"\n",
        "print(str_7[3])"
      ],
      "metadata": {
        "colab": {
          "base_uri": "https://localhost:8080/"
        },
        "id": "TYVfGzhF6X1x",
        "outputId": "5bc8fb4f-3807-4366-88cf-b6208108b226"
      },
      "execution_count": 3,
      "outputs": [
        {
          "output_type": "stream",
          "name": "stdout",
          "text": [
            "d\n"
          ]
        }
      ]
    },
    {
      "cell_type": "markdown",
      "source": [
        "Q8. Write a function that counts the number of vowels in a string.\n",
        "```\n",
        "count_vowels('Hello')\n",
        ">> 2\n",
        "```"
      ],
      "metadata": {
        "id": "cbT8dz0ekeWm"
      }
    },
    {
      "cell_type": "code",
      "source": [
        "x=9\n",
        "if x == 1:\n",
        "    print(\"k\")\n",
        "elif x != 1:\n",
        "    print(\"3\")"
      ],
      "metadata": {
        "id": "DmHmn9IUkgWB",
        "colab": {
          "base_uri": "https://localhost:8080/"
        },
        "outputId": "6c29f49b-9870-4e8b-cae5-a9ed14ef06c5"
      },
      "execution_count": null,
      "outputs": [
        {
          "output_type": "stream",
          "name": "stdout",
          "text": [
            "3\n"
          ]
        }
      ]
    },
    {
      "cell_type": "markdown",
      "source": [
        "Q9. Write functions to find the maximum, minimum, and average of a list of numbers.\n",
        "```\n",
        "find_max([4, 5, 6, 7])\n",
        ">> 7\n",
        "```"
      ],
      "metadata": {
        "id": "XQ0e6fSPlDNy"
      }
    },
    {
      "cell_type": "code",
      "source": [
        "list_9 = [4,5,6,7]\n",
        "def mean (list):\n",
        "    return sum(list_9)/len(list_9)\n",
        "mean(list_9)"
      ],
      "metadata": {
        "colab": {
          "base_uri": "https://localhost:8080/"
        },
        "id": "nF8BpbnlwXA-",
        "outputId": "2a572f58-64f4-4e6c-bf2e-8bc008dbb5a8"
      },
      "execution_count": null,
      "outputs": [
        {
          "output_type": "execute_result",
          "data": {
            "text/plain": [
              "5.5"
            ]
          },
          "metadata": {},
          "execution_count": 11
        }
      ]
    },
    {
      "cell_type": "code",
      "source": [
        "def find_max:[A,Z,Y,X]:\n",
        "    print(max(find_max))\n",
        "find_max:[A=3,Z=4,Y=5,X=6]\n",
        "A=3\n",
        "Z=4\n",
        "Y=5\n",
        "X=6"
      ],
      "metadata": {
        "colab": {
          "base_uri": "https://localhost:8080/",
          "height": 140
        },
        "id": "C116_lZRGInc",
        "outputId": "401b6b54-746b-46f0-f0d8-659e45193ac3"
      },
      "execution_count": null,
      "outputs": [
        {
          "output_type": "error",
          "ename": "SyntaxError",
          "evalue": "ignored",
          "traceback": [
            "\u001b[0;36m  File \u001b[0;32m\"<ipython-input-3-edf97e169b6c>\"\u001b[0;36m, line \u001b[0;32m1\u001b[0m\n\u001b[0;31m    def find_max:[A,Z,Y,X]:\u001b[0m\n\u001b[0m                ^\u001b[0m\n\u001b[0;31mSyntaxError\u001b[0m\u001b[0;31m:\u001b[0m invalid syntax\n"
          ]
        }
      ]
    },
    {
      "cell_type": "markdown",
      "source": [
        "Q10. Write a function that returns the nth number in the Fibonacci sequence."
      ],
      "metadata": {
        "id": "Ge6dyXjDlib-"
      }
    },
    {
      "cell_type": "markdown",
      "source": [
        "```\n",
        "fibonacci(3)\n",
        ">> 1\n",
        "```"
      ],
      "metadata": {
        "id": "kWz77yucljyF"
      }
    },
    {
      "cell_type": "code",
      "source": [
        "from IPython.utils.path import random\n",
        "from random import randint\n",
        "x = randint(0, 100)\n",
        "c= int(input())\n",
        "while True:\n",
        "    if x>c:\n",
        "        print(\"the number is higher than that\")\n",
        "        c=int(input())\n",
        "    elif x<c:\n",
        "        print(\"the number is lower than that\")\n",
        "        c=int(input())\n",
        "    elif x==c:\n",
        "        print(\"you got number\")\n",
        "        break"
      ],
      "metadata": {
        "id": "edKYwyJylHxd",
        "colab": {
          "base_uri": "https://localhost:8080/"
        },
        "outputId": "0853d640-307d-4c43-ed6d-2dd582a74868"
      },
      "execution_count": null,
      "outputs": [
        {
          "output_type": "stream",
          "name": "stdout",
          "text": [
            "90\n",
            "the number is lower than that\n",
            "80\n",
            "the number is lower than that\n",
            "70\n",
            "the number is higher than that\n",
            "75\n",
            "the number is lower than that\n",
            "73\n",
            "you got number\n"
          ]
        }
      ]
    },
    {
      "cell_type": "code",
      "source": [
        "\n",
        "a=int(input(\"a=\"))\n",
        "b=int(input(\"b=\"))\n",
        "c=int(input(\"c=\"))\n",
        "y= (b**2)-(4*a*c)\n",
        "r= y**(1/2)\n",
        "x_1= (b*-1)+r\n",
        "x_2= (b*-1)-r\n",
        "intercept1=x_1/ (2*a)\n",
        "intercept2=x_2/ (2*a)\n",
        "results= intercept1, intercept2\n",
        "print(results)\n"
      ],
      "metadata": {
        "colab": {
          "base_uri": "https://localhost:8080/",
          "height": 279
        },
        "id": "ktqukNa7A1gD",
        "outputId": "a0a48d20-1c55-49de-ad8b-c667a7e23540"
      },
      "execution_count": null,
      "outputs": [
        {
          "output_type": "stream",
          "name": "stdout",
          "text": [
            "a=1\n",
            "b=1\n",
            "c=1\n",
            "((-0.49999999999999994+0.8660254037844386j), (-0.5-0.8660254037844386j))\n"
          ]
        },
        {
          "output_type": "error",
          "ename": "NameError",
          "evalue": "ignored",
          "traceback": [
            "\u001b[0;31m---------------------------------------------------------------------------\u001b[0m",
            "\u001b[0;31mNameError\u001b[0m                                 Traceback (most recent call last)",
            "\u001b[0;32m<ipython-input-6-b8a1bb73dde8>\u001b[0m in \u001b[0;36m<cell line: 12>\u001b[0;34m()\u001b[0m\n\u001b[1;32m     10\u001b[0m \u001b[0mresults\u001b[0m\u001b[0;34m=\u001b[0m \u001b[0mintercept1\u001b[0m\u001b[0;34m,\u001b[0m \u001b[0mintercept2\u001b[0m\u001b[0;34m\u001b[0m\u001b[0;34m\u001b[0m\u001b[0m\n\u001b[1;32m     11\u001b[0m \u001b[0mprint\u001b[0m\u001b[0;34m(\u001b[0m\u001b[0mresults\u001b[0m\u001b[0;34m)\u001b[0m\u001b[0;34m\u001b[0m\u001b[0;34m\u001b[0m\u001b[0m\n\u001b[0;32m---> 12\u001b[0;31m \u001b[0mprint\u001b[0m\u001b[0;34m(\u001b[0m\u001b[0mr\u001b[0m\u001b[0;34m,\u001b[0m\u001b[0mt\u001b[0m\u001b[0;34m)\u001b[0m\u001b[0;34m\u001b[0m\u001b[0;34m\u001b[0m\u001b[0m\n\u001b[0m",
            "\u001b[0;31mNameError\u001b[0m: name 't' is not defined"
          ]
        }
      ]
    },
    {
      "cell_type": "code",
      "source": [
        "def fibonacci(n):\n",
        "    fibonacci_sequence=[0,1,2]\n",
        "    while len(fibonacci_sequence) < n:\n",
        "        next_number = fibonacci_sequence[-1] + fibonacci_sequence[-2] + fibonacci_sequence[-3]\n",
        "        fibonacci_sequence.append(next_number)\n",
        "    return fibonacci_sequence\n",
        "n=10\n",
        "x=fibonacci(n)\n",
        "print(x)"
      ],
      "metadata": {
        "colab": {
          "base_uri": "https://localhost:8080/"
        },
        "id": "7Z3k9e1S9CY2",
        "outputId": "3eb603c3-63a3-4002-df31-2ae6f3c52fbb"
      },
      "execution_count": null,
      "outputs": [
        {
          "output_type": "stream",
          "name": "stdout",
          "text": [
            "[0, 1, 2, 3, 6, 11, 20, 37, 68, 125]\n"
          ]
        }
      ]
    },
    {
      "cell_type": "code",
      "source": [
        "from time import sleep as sl\n",
        "from random import randint as rnt\n",
        "abc =\"abcdefghijklmnopqrstuvwxyz \"\n",
        "word = \"\"\n",
        "almost_word = \"\"\n",
        "for letter in word:\n",
        "    randletter = abc[rnt(0, len(abc) - 1)]\n",
        "    while randletter != letter:\n",
        "        randletter = abc[rnt(0, len(abc) - 1)]\n",
        "        print(almost_word + randletter)\n",
        "        sl(1/15)\n",
        "    else:\n",
        "        almost_word += randletter"
      ],
      "metadata": {
        "colab": {
          "base_uri": "https://localhost:8080/"
        },
        "id": "Lvk_A1e4O-nY",
        "outputId": "387dc746-466a-4fbb-c700-a9efdcd84fc1"
      },
      "execution_count": null,
      "outputs": [
        {
          "output_type": "stream",
          "name": "stdout",
          "text": [
            "hh\n"
          ]
        }
      ]
    }
  ]
}